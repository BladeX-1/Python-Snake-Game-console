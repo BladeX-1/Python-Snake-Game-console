{
 "cells": [
  {
   "cell_type": "code",
   "execution_count": 2,
   "id": "732a8165",
   "metadata": {},
   "outputs": [],
   "source": [
    "import itertools\n",
    "import random\n",
    "from os import system as cmd   # will be used to clear the screen\n",
    "from threading import Thread\n",
    "import queue\n",
    "from pynput import keyboard  # used to listen the keyboard in parallel\n",
    "import time\n",
    "from IPython.display import clear_output #  clear jupyter notebook output"
   ]
  },
  {
   "cell_type": "code",
   "execution_count": 3,
   "id": "720f3f3f",
   "metadata": {},
   "outputs": [],
   "source": [
    "displayboard=[] # Main drawing board on which all the snake,food,boundries are there\n",
    "height=25\n",
    "width=50\n",
    "width-=(width-2)%3 #  did in this in hope than in future we would increase horizontal 1move to 3chars\n",
    "\n",
    "\n",
    "cornerchar='+'\n",
    "verticalchar='|'\n",
    "horizontalchar='='\n",
    "snakeskin='#'\n",
    "foodskin='$'"
   ]
  },
  {
   "cell_type": "code",
   "execution_count": 4,
   "id": "2be5ad3f",
   "metadata": {},
   "outputs": [],
   "source": [
    "# clears the console and jupyter screen\n",
    "def clear():\n",
    "    clear_output()\n",
    "    cmd('cls')"
   ]
  },
  {
   "cell_type": "code",
   "execution_count": 5,
   "id": "9a1ffe9c",
   "metadata": {},
   "outputs": [],
   "source": [
    "# set up boundries on the board\n",
    "for i in range(height):\n",
    "    displayboard.append([])\n",
    "    for j in range(width):\n",
    "        displayboard[i].append(' ')\n",
    "        if( (i==0 and (j==0 or j==width-1)) or (i==height-1 and (j==0 or j==width-1)) ):\n",
    "            displayboard[i][j]=cornerchar\n",
    "        elif(j==0 or j==width-1):\n",
    "            displayboard[i][j]=verticalchar\n",
    "        elif(i==0 or i==height-1):\n",
    "            displayboard[i][j]=horizontalchar\n"
   ]
  },
  {
   "cell_type": "code",
   "execution_count": 6,
   "id": "e08c05a3",
   "metadata": {},
   "outputs": [],
   "source": [
    "# it is used to print the main board\n",
    "def printmatrix(mat):\n",
    "    brr=[]\n",
    "    for arr in mat:\n",
    "        for c in arr:\n",
    "            brr.append(c)\n",
    "        brr.append('\\n')\n",
    "    return ''.join(brr)\n"
   ]
  },
  {
   "cell_type": "code",
   "execution_count": 7,
   "id": "cc828d9e",
   "metadata": {},
   "outputs": [
    {
     "name": "stdout",
     "output_type": "stream",
     "text": [
      "+================================================+\n",
      "|                                                |\n",
      "|                                                |\n",
      "|                                                |\n",
      "|                                                |\n",
      "|                                                |\n",
      "|                                                |\n",
      "|                                                |\n",
      "|                                                |\n",
      "|                                                |\n",
      "|                                                |\n",
      "|                                                |\n",
      "|                                                |\n",
      "|                                                |\n",
      "|                                                |\n",
      "|                                                |\n",
      "|                                                |\n",
      "|                                                |\n",
      "|                                                |\n",
      "|                                                |\n",
      "|                                                |\n",
      "|                                                |\n",
      "|                                                |\n",
      "|                                                |\n",
      "+================================================+\n",
      "\n"
     ]
    }
   ],
   "source": [
    "print(printmatrix(displayboard))"
   ]
  },
  {
   "cell_type": "code",
   "execution_count": 8,
   "id": "a78e93b6",
   "metadata": {},
   "outputs": [],
   "source": [
    "# all position where snake body is\n",
    "snake=[(height//2,width//2),\n",
    "       (height//2,width//2+1),\n",
    "       (height//2,width//2+2),\n",
    "       (height//2,width//2+3)\n",
    "      ]"
   ]
  },
  {
   "cell_type": "code",
   "execution_count": 9,
   "id": "c24c73ce",
   "metadata": {},
   "outputs": [],
   "source": [
    "#put the snake on the board middle\n",
    "for y,x in snake:\n",
    "    displayboard[y][x]=snakeskin"
   ]
  },
  {
   "cell_type": "code",
   "execution_count": 10,
   "id": "5375b4d2",
   "metadata": {},
   "outputs": [],
   "source": [
    "# will give locaiton of next food item (a random blank square)\n",
    "def foodlocation(board):\n",
    "    firsttime=True\n",
    "    while(firsttime or board[y][x]!=' '):\n",
    "        x=random.randint(0,width-1)\n",
    "        y=random.randint(0,height-1)\n",
    "        if(firsttime):\n",
    "            firsttime=False\n",
    "    return y,x"
   ]
  },
  {
   "cell_type": "code",
   "execution_count": 11,
   "id": "8fa26f7e",
   "metadata": {},
   "outputs": [],
   "source": [
    "#listening the keyboard\n",
    "\n",
    "keyboardbutton=[-1] # -1 signifies no input:in neutral state\n",
    "def on_press(key):\n",
    "    global keyboardbutton\n",
    "    if key == keyboard.Key.right:\n",
    "        keyboardbutton=[0]\n",
    "    elif key == keyboard.Key.up:\n",
    "        keyboardbutton=[1]\n",
    "    elif key == keyboard.Key.left:\n",
    "        keyboardbutton=[2]\n",
    "    elif key == keyboard.Key.down:\n",
    "        keyboardbutton=[3]\n",
    "    elif key == keyboard.Key.space:# -2 indicate exit\n",
    "        keyboardbutton=[-2]\n",
    "        return False\n",
    "listener = keyboard.Listener(on_press=on_press)\n",
    "listener.start()  # start to listen on a separate thread"
   ]
  },
  {
   "cell_type": "code",
   "execution_count": 13,
   "id": "1c52fd3e",
   "metadata": {},
   "outputs": [
    {
     "name": "stdout",
     "output_type": "stream",
     "text": [
      "gameover\n",
      "\n"
     ]
    },
    {
     "data": {
      "text/plain": [
       "''"
      ]
     },
     "execution_count": 13,
     "metadata": {},
     "output_type": "execute_result"
    }
   ],
   "source": [
    "directionsX=[1,0,-1,0] # clockwise\n",
    "directionsY=[0,-1,0,1]\n",
    "snakeDirection=0 #1,2,3\n",
    "\n",
    "#first food location set up\n",
    "fy,fx=foodlocation(displayboard)\n",
    "displayboard[fy][fx]=foodskin\n",
    "\n",
    "# game loop\n",
    "while(True):\n",
    "    clear()\n",
    "    \n",
    "    #head location of snake\n",
    "    y,x=snake[-1]\n",
    "    \n",
    "    \n",
    "    ##for keyboardbutton[0]\n",
    "    # -1 -> blank\n",
    "    # -2 -> exit\n",
    "    # 0,1,2,3 -> directions\n",
    "    #\n",
    "    #\n",
    "    # updating snake's direction\n",
    "    newdirection=keyboardbutton[0]\n",
    "    if(abs((snakeDirection-newdirection)%4)==2):\n",
    "        newdirection=snakeDirection\n",
    "    if(newdirection==-1):\n",
    "        newdirection=snakeDirection\n",
    "    elif(newdirection==-2):\n",
    "        break\n",
    "    else:\n",
    "        snakeDirection=newdirection\n",
    "    keyboardbutton[0]=-1\n",
    "    \n",
    "    \n",
    "    ## updating the displayboard with new position of the snake and/or the fruit\n",
    "    newy,newx=(y+directionsY[snakeDirection], x+directionsX[snakeDirection])\n",
    "    if(displayboard[newy][newx]==foodskin): # if snake eats food\n",
    "        snake.append((newy,newx))\n",
    "        displayboard[newy][newx]=snakeskin\n",
    "        fy,fx=foodlocation(displayboard)\n",
    "        displayboard[fy][fx]=foodskin\n",
    "        \n",
    "    elif(displayboard[newy][newx]==' '): # if there is free area\n",
    "        snake.append((newy,newx))\n",
    "        displayboard[newy][newx]=snakeskin\n",
    "        displayboard[snake[0][0]][snake[0][1]]=' '\n",
    "        snake.pop(0)\n",
    "        \n",
    "    elif(displayboard[newy][newx]==snakeskin and c):# if it touches itself\n",
    "        break\n",
    "        \n",
    "    elif(displayboard[newy][newx]==horizontalchar or displayboard[newy][newx]==verticalchar):# if it touches the boundry\n",
    "        break\n",
    "        \n",
    "    \n",
    "    print(printmatrix(displayboard))\n",
    "    time.sleep(0.05)\n",
    "        \n",
    "cmd('cls')\n",
    "print('gameover')\n",
    "input()"
   ]
  },
  {
   "cell_type": "code",
   "execution_count": null,
   "id": "2ae68671",
   "metadata": {},
   "outputs": [],
   "source": [
    "\n"
   ]
  },
  {
   "cell_type": "code",
   "execution_count": 50,
   "id": "92b27df7",
   "metadata": {},
   "outputs": [
    {
     "data": {
      "text/plain": [
       "0"
      ]
     },
     "execution_count": 50,
     "metadata": {},
     "output_type": "execute_result"
    }
   ],
   "source": []
  },
  {
   "cell_type": "code",
   "execution_count": null,
   "id": "34deb033",
   "metadata": {},
   "outputs": [],
   "source": []
  }
 ],
 "metadata": {
  "kernelspec": {
   "display_name": "Python 3",
   "language": "python",
   "name": "python3"
  },
  "language_info": {
   "codemirror_mode": {
    "name": "ipython",
    "version": 3
   },
   "file_extension": ".py",
   "mimetype": "text/x-python",
   "name": "python",
   "nbconvert_exporter": "python",
   "pygments_lexer": "ipython3",
   "version": "3.7.4"
  }
 },
 "nbformat": 4,
 "nbformat_minor": 5
}
