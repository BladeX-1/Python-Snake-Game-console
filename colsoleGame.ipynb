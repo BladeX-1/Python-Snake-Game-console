{
 "cells": [
  {
   "cell_type": "code",
   "execution_count": 38,
   "id": "f9da6118",
   "metadata": {},
   "outputs": [],
   "source": [
    "import itertools\n",
    "import random\n",
    "from os import system as cmd   # will be used to clear the screen\n",
    "from threading import Thread\n",
    "import queue\n",
    "from pynput import keyboard  # used to listen the keyboard in parallel\n",
    "import time\n",
    "from IPython.display import clear_output #  clear jupyter notebook output"
   ]
  },
  {
   "cell_type": "code",
   "execution_count": 39,
   "id": "7e12ee0f",
   "metadata": {},
   "outputs": [],
   "source": [
    "displayboard=[] # Main drawing board on which all the snake,food,boundries are there\n",
    "height=25\n",
    "width=100\n",
    "width-=(width-2)%3 #  did in this in hope than in future we would increase horizontal 1move to 3chars\n",
    "\n",
    "\n",
    "cornerchar='+'\n",
    "verticalchar='|'\n",
    "horizontalchar='='\n",
    "snakeskin='#'\n",
    "foodskin='$'"
   ]
  },
  {
   "cell_type": "code",
   "execution_count": 48,
   "id": "91e6fd64",
   "metadata": {},
   "outputs": [],
   "source": [
    "# clears the console and jupyter screen\n",
    "def clear():\n",
    "    clear_output()\n",
    "    cmd('cls')"
   ]
  },
  {
   "cell_type": "code",
   "execution_count": 40,
   "id": "c8bd4343",
   "metadata": {},
   "outputs": [],
   "source": [
    "# set up boundries on the board\n",
    "for i in range(height):\n",
    "    displayboard.append([])\n",
    "    for j in range(width):\n",
    "        displayboard[i].append(' ')\n",
    "        if( (i==0 and (j==0 or j==width-1)) or (i==height-1 and (j==0 or j==width-1)) ):\n",
    "            displayboard[i][j]=cornerchar\n",
    "        elif(j==0 or j==width-1):\n",
    "            displayboard[i][j]=verticalchar\n",
    "        elif(i==0 or i==height-1):\n",
    "            displayboard[i][j]=horizontalchar\n"
   ]
  },
  {
   "cell_type": "code",
   "execution_count": 41,
   "id": "2e1a7490",
   "metadata": {},
   "outputs": [],
   "source": [
    "# it is used to print the main board\n",
    "def printmatrix(mat):\n",
    "    for arr in mat:\n",
    "        for c in arr:\n",
    "            print(c,sep='',end='')\n",
    "        print()\n"
   ]
  },
  {
   "cell_type": "code",
   "execution_count": 42,
   "id": "41d25e4c",
   "metadata": {},
   "outputs": [
    {
     "name": "stdout",
     "output_type": "stream",
     "text": [
      "+================================================================================================+\n",
      "|                                                                                                |\n",
      "|                                                                                                |\n",
      "|                                                                                                |\n",
      "|                                                                                                |\n",
      "|                                                                                                |\n",
      "|                                                                                                |\n",
      "|                                                                                                |\n",
      "|                                                                                                |\n",
      "|                                                                                                |\n",
      "|                                                                                                |\n",
      "|                                                                                                |\n",
      "|                                                                                                |\n",
      "|                                                                                                |\n",
      "|                                                                                                |\n",
      "|                                                                                                |\n",
      "|                                                                                                |\n",
      "|                                                                                                |\n",
      "|                                                                                                |\n",
      "|                                                                                                |\n",
      "|                                                                                                |\n",
      "|                                                                                                |\n",
      "|                                                                                                |\n",
      "|                                                                                                |\n",
      "+================================================================================================+\n"
     ]
    }
   ],
   "source": [
    "printmatrix(displayboard)"
   ]
  },
  {
   "cell_type": "code",
   "execution_count": 43,
   "id": "c9fadd9e",
   "metadata": {},
   "outputs": [],
   "source": [
    "# all position where snake body is\n",
    "snake=[(height//2,width//2),\n",
    "       (height//2,width//2+1),\n",
    "       (height//2,width//2+2),\n",
    "       (height//2,width//2+3)\n",
    "      ]"
   ]
  },
  {
   "cell_type": "code",
   "execution_count": 44,
   "id": "c95125c7",
   "metadata": {},
   "outputs": [],
   "source": [
    "#put the snake on the board middle\n",
    "for y,x in snake:\n",
    "    displayboard[y][x]=snakeskin"
   ]
  },
  {
   "cell_type": "code",
   "execution_count": 45,
   "id": "31faa4a4",
   "metadata": {},
   "outputs": [],
   "source": [
    "# will give locaiton of next food item (a random blank square)\n",
    "def foodlocation(board):\n",
    "    firsttime=True\n",
    "    while(firsttime or board[y][x]!=' '):\n",
    "        x=random.randint(0,width-1)\n",
    "        y=random.randint(0,height-1)\n",
    "        if(firsttime):\n",
    "            firsttime=False\n",
    "    return y,x"
   ]
  },
  {
   "cell_type": "code",
   "execution_count": 46,
   "id": "1989c57f",
   "metadata": {},
   "outputs": [],
   "source": [
    "#listening the keyboard\n",
    "\n",
    "keyboardbutton=[-1] # -1 signifies no input:in neutral state\n",
    "def on_press(key):\n",
    "    global keyboardbutton\n",
    "    if key == keyboard.Key.right:\n",
    "        keyboardbutton=[0]\n",
    "    elif key == keyboard.Key.up:\n",
    "        keyboardbutton=[1]\n",
    "    elif key == keyboard.Key.left:\n",
    "        keyboardbutton=[2]\n",
    "    elif key == keyboard.Key.down:\n",
    "        keyboardbutton=[3]\n",
    "    elif key == keyboard.Key.space:# -2 indicate exit\n",
    "        keyboardbutton=[-2]\n",
    "        return False\n",
    "listener = keyboard.Listener(on_press=on_press)\n",
    "listener.start()  # start to listen on a separate thread"
   ]
  },
  {
   "cell_type": "code",
   "execution_count": 47,
   "id": "cccf2360",
   "metadata": {},
   "outputs": [
    {
     "name": "stdout",
     "output_type": "stream",
     "text": [
      "+================================================================================================+\n",
      "|                                                                                                |\n",
      "|                                                                                                |\n",
      "|                                                                                                |\n",
      "|                                                                                                |\n",
      "|                                                                                                |\n",
      "|                                                                                                |\n",
      "|                                                                                                |\n",
      "|                                                                                                |\n",
      "|                                                                                          "
     ]
    },
    {
     "ename": "KeyboardInterrupt",
     "evalue": "",
     "output_type": "error",
     "traceback": [
      "\u001b[1;31m---------------------------------------------------------------------------\u001b[0m",
      "\u001b[1;31mKeyboardInterrupt\u001b[0m                         Traceback (most recent call last)",
      "\u001b[1;32m<ipython-input-47-a9ada312b650>\u001b[0m in \u001b[0;36m<module>\u001b[1;34m\u001b[0m\n\u001b[0;32m     38\u001b[0m \u001b[1;33m\u001b[0m\u001b[0m\n\u001b[0;32m     39\u001b[0m     \u001b[0mclear_output\u001b[0m\u001b[1;33m(\u001b[0m\u001b[1;33m)\u001b[0m\u001b[1;33m\u001b[0m\u001b[1;33m\u001b[0m\u001b[0m\n\u001b[1;32m---> 40\u001b[1;33m     \u001b[0mprintmatrix\u001b[0m\u001b[1;33m(\u001b[0m\u001b[0mdisplayboard\u001b[0m\u001b[1;33m)\u001b[0m\u001b[1;33m\u001b[0m\u001b[1;33m\u001b[0m\u001b[0m\n\u001b[0m\u001b[0;32m     41\u001b[0m     \u001b[0mtime\u001b[0m\u001b[1;33m.\u001b[0m\u001b[0msleep\u001b[0m\u001b[1;33m(\u001b[0m\u001b[1;36m.1\u001b[0m\u001b[1;33m)\u001b[0m\u001b[1;33m\u001b[0m\u001b[1;33m\u001b[0m\u001b[0m\n\u001b[0;32m     42\u001b[0m \u001b[1;33m\u001b[0m\u001b[0m\n",
      "\u001b[1;32m<ipython-input-41-7c7054060de7>\u001b[0m in \u001b[0;36mprintmatrix\u001b[1;34m(mat)\u001b[0m\n\u001b[0;32m      2\u001b[0m     \u001b[1;32mfor\u001b[0m \u001b[0marr\u001b[0m \u001b[1;32min\u001b[0m \u001b[0mmat\u001b[0m\u001b[1;33m:\u001b[0m\u001b[1;33m\u001b[0m\u001b[1;33m\u001b[0m\u001b[0m\n\u001b[0;32m      3\u001b[0m         \u001b[1;32mfor\u001b[0m \u001b[0mc\u001b[0m \u001b[1;32min\u001b[0m \u001b[0marr\u001b[0m\u001b[1;33m:\u001b[0m\u001b[1;33m\u001b[0m\u001b[1;33m\u001b[0m\u001b[0m\n\u001b[1;32m----> 4\u001b[1;33m             \u001b[0mprint\u001b[0m\u001b[1;33m(\u001b[0m\u001b[0mc\u001b[0m\u001b[1;33m,\u001b[0m\u001b[0msep\u001b[0m\u001b[1;33m=\u001b[0m\u001b[1;34m''\u001b[0m\u001b[1;33m,\u001b[0m\u001b[0mend\u001b[0m\u001b[1;33m=\u001b[0m\u001b[1;34m''\u001b[0m\u001b[1;33m)\u001b[0m\u001b[1;33m\u001b[0m\u001b[1;33m\u001b[0m\u001b[0m\n\u001b[0m\u001b[0;32m      5\u001b[0m         \u001b[0mprint\u001b[0m\u001b[1;33m(\u001b[0m\u001b[1;33m)\u001b[0m\u001b[1;33m\u001b[0m\u001b[1;33m\u001b[0m\u001b[0m\n",
      "\u001b[1;32m~\\Anaconda3\\lib\\site-packages\\ipykernel\\iostream.py\u001b[0m in \u001b[0;36mwrite\u001b[1;34m(self, string)\u001b[0m\n\u001b[0;32m    402\u001b[0m             \u001b[0mis_child\u001b[0m \u001b[1;33m=\u001b[0m \u001b[1;33m(\u001b[0m\u001b[1;32mnot\u001b[0m \u001b[0mself\u001b[0m\u001b[1;33m.\u001b[0m\u001b[0m_is_master_process\u001b[0m\u001b[1;33m(\u001b[0m\u001b[1;33m)\u001b[0m\u001b[1;33m)\u001b[0m\u001b[1;33m\u001b[0m\u001b[1;33m\u001b[0m\u001b[0m\n\u001b[0;32m    403\u001b[0m             \u001b[1;31m# only touch the buffer in the IO thread to avoid races\u001b[0m\u001b[1;33m\u001b[0m\u001b[1;33m\u001b[0m\u001b[1;33m\u001b[0m\u001b[0m\n\u001b[1;32m--> 404\u001b[1;33m             \u001b[0mself\u001b[0m\u001b[1;33m.\u001b[0m\u001b[0mpub_thread\u001b[0m\u001b[1;33m.\u001b[0m\u001b[0mschedule\u001b[0m\u001b[1;33m(\u001b[0m\u001b[1;32mlambda\u001b[0m \u001b[1;33m:\u001b[0m \u001b[0mself\u001b[0m\u001b[1;33m.\u001b[0m\u001b[0m_buffer\u001b[0m\u001b[1;33m.\u001b[0m\u001b[0mwrite\u001b[0m\u001b[1;33m(\u001b[0m\u001b[0mstring\u001b[0m\u001b[1;33m)\u001b[0m\u001b[1;33m)\u001b[0m\u001b[1;33m\u001b[0m\u001b[1;33m\u001b[0m\u001b[0m\n\u001b[0m\u001b[0;32m    405\u001b[0m             \u001b[1;32mif\u001b[0m \u001b[0mis_child\u001b[0m\u001b[1;33m:\u001b[0m\u001b[1;33m\u001b[0m\u001b[1;33m\u001b[0m\u001b[0m\n\u001b[0;32m    406\u001b[0m                 \u001b[1;31m# mp.Pool cannot be trusted to flush promptly (or ever),\u001b[0m\u001b[1;33m\u001b[0m\u001b[1;33m\u001b[0m\u001b[1;33m\u001b[0m\u001b[0m\n",
      "\u001b[1;32m~\\Anaconda3\\lib\\site-packages\\ipykernel\\iostream.py\u001b[0m in \u001b[0;36mschedule\u001b[1;34m(self, f)\u001b[0m\n\u001b[0;32m    203\u001b[0m             \u001b[0mself\u001b[0m\u001b[1;33m.\u001b[0m\u001b[0m_events\u001b[0m\u001b[1;33m.\u001b[0m\u001b[0mappend\u001b[0m\u001b[1;33m(\u001b[0m\u001b[0mf\u001b[0m\u001b[1;33m)\u001b[0m\u001b[1;33m\u001b[0m\u001b[1;33m\u001b[0m\u001b[0m\n\u001b[0;32m    204\u001b[0m             \u001b[1;31m# wake event thread (message content is ignored)\u001b[0m\u001b[1;33m\u001b[0m\u001b[1;33m\u001b[0m\u001b[1;33m\u001b[0m\u001b[0m\n\u001b[1;32m--> 205\u001b[1;33m             \u001b[0mself\u001b[0m\u001b[1;33m.\u001b[0m\u001b[0m_event_pipe\u001b[0m\u001b[1;33m.\u001b[0m\u001b[0msend\u001b[0m\u001b[1;33m(\u001b[0m\u001b[1;34mb''\u001b[0m\u001b[1;33m)\u001b[0m\u001b[1;33m\u001b[0m\u001b[1;33m\u001b[0m\u001b[0m\n\u001b[0m\u001b[0;32m    206\u001b[0m         \u001b[1;32melse\u001b[0m\u001b[1;33m:\u001b[0m\u001b[1;33m\u001b[0m\u001b[1;33m\u001b[0m\u001b[0m\n\u001b[0;32m    207\u001b[0m             \u001b[0mf\u001b[0m\u001b[1;33m(\u001b[0m\u001b[1;33m)\u001b[0m\u001b[1;33m\u001b[0m\u001b[1;33m\u001b[0m\u001b[0m\n",
      "\u001b[1;32m~\\Anaconda3\\lib\\site-packages\\zmq\\sugar\\socket.py\u001b[0m in \u001b[0;36msend\u001b[1;34m(self, data, flags, copy, track, routing_id, group)\u001b[0m\n\u001b[0;32m    489\u001b[0m                                  copy_threshold=self.copy_threshold)\n\u001b[0;32m    490\u001b[0m             \u001b[0mdata\u001b[0m\u001b[1;33m.\u001b[0m\u001b[0mgroup\u001b[0m \u001b[1;33m=\u001b[0m \u001b[0mgroup\u001b[0m\u001b[1;33m\u001b[0m\u001b[1;33m\u001b[0m\u001b[0m\n\u001b[1;32m--> 491\u001b[1;33m         \u001b[1;32mreturn\u001b[0m \u001b[0msuper\u001b[0m\u001b[1;33m(\u001b[0m\u001b[0mSocket\u001b[0m\u001b[1;33m,\u001b[0m \u001b[0mself\u001b[0m\u001b[1;33m)\u001b[0m\u001b[1;33m.\u001b[0m\u001b[0msend\u001b[0m\u001b[1;33m(\u001b[0m\u001b[0mdata\u001b[0m\u001b[1;33m,\u001b[0m \u001b[0mflags\u001b[0m\u001b[1;33m=\u001b[0m\u001b[0mflags\u001b[0m\u001b[1;33m,\u001b[0m \u001b[0mcopy\u001b[0m\u001b[1;33m=\u001b[0m\u001b[0mcopy\u001b[0m\u001b[1;33m,\u001b[0m \u001b[0mtrack\u001b[0m\u001b[1;33m=\u001b[0m\u001b[0mtrack\u001b[0m\u001b[1;33m)\u001b[0m\u001b[1;33m\u001b[0m\u001b[1;33m\u001b[0m\u001b[0m\n\u001b[0m\u001b[0;32m    492\u001b[0m \u001b[1;33m\u001b[0m\u001b[0m\n\u001b[0;32m    493\u001b[0m     \u001b[1;32mdef\u001b[0m \u001b[0msend_multipart\u001b[0m\u001b[1;33m(\u001b[0m\u001b[0mself\u001b[0m\u001b[1;33m,\u001b[0m \u001b[0mmsg_parts\u001b[0m\u001b[1;33m,\u001b[0m \u001b[0mflags\u001b[0m\u001b[1;33m=\u001b[0m\u001b[1;36m0\u001b[0m\u001b[1;33m,\u001b[0m \u001b[0mcopy\u001b[0m\u001b[1;33m=\u001b[0m\u001b[1;32mTrue\u001b[0m\u001b[1;33m,\u001b[0m \u001b[0mtrack\u001b[0m\u001b[1;33m=\u001b[0m\u001b[1;32mFalse\u001b[0m\u001b[1;33m,\u001b[0m \u001b[1;33m**\u001b[0m\u001b[0mkwargs\u001b[0m\u001b[1;33m)\u001b[0m\u001b[1;33m:\u001b[0m\u001b[1;33m\u001b[0m\u001b[1;33m\u001b[0m\u001b[0m\n",
      "\u001b[1;32mzmq/backend/cython/socket.pyx\u001b[0m in \u001b[0;36mzmq.backend.cython.socket.Socket.send\u001b[1;34m()\u001b[0m\n",
      "\u001b[1;32mzmq/backend/cython/socket.pyx\u001b[0m in \u001b[0;36mzmq.backend.cython.socket.Socket.send\u001b[1;34m()\u001b[0m\n",
      "\u001b[1;32mzmq/backend/cython/socket.pyx\u001b[0m in \u001b[0;36mzmq.backend.cython.socket._send_copy\u001b[1;34m()\u001b[0m\n",
      "\u001b[1;32m~\\Anaconda3\\lib\\site-packages\\zmq\\backend\\cython\\checkrc.pxd\u001b[0m in \u001b[0;36mzmq.backend.cython.checkrc._check_rc\u001b[1;34m()\u001b[0m\n",
      "\u001b[1;31mKeyboardInterrupt\u001b[0m: "
     ]
    }
   ],
   "source": [
    "directionsX=[1,0,-1,0] # clockwise\n",
    "directionsY=[0,-1,0,1]\n",
    "snakeDirection=0 #1,2,3\n",
    "\n",
    "#first food location set up\n",
    "fy,fx=foodlocation(displayboard)\n",
    "displayboard[fy][fx]=foodskin\n",
    "\n",
    "# game loop\n",
    "while(True):\n",
    "    clear()\n",
    "    \n",
    "    #head location of snake\n",
    "    y,x=snake[-1]\n",
    "    \n",
    "    \n",
    "    ##for keyboardbutton[0]\n",
    "    # -1 -> blank\n",
    "    # -2 -> exit\n",
    "    # 0,1,2,3 -> directions\n",
    "    #\n",
    "    #\n",
    "    # updating snake's direction\n",
    "    newdirection=keyboardbutton[0]\n",
    "    if(newdirection==-1):\n",
    "        newdirection=snakeDirection\n",
    "    elif(newdirection==-2):\n",
    "        break\n",
    "    else:\n",
    "        snakeDirection=newdirection\n",
    "    keyboardbutton[0]=-1\n",
    "    \n",
    "    \n",
    "    ## updating the displayboard with new position of\n",
    "    newy,newx=(y+directionsY[snakeDirection], x+directionsX[snakeDirection])\n",
    "    if(displayboard[newy][newx]==foodskin):\n",
    "        snake.append((newy,newx))\n",
    "        displayboard[newy][newx]=snakeskin\n",
    "        fy,fx=foodlocation(displayboard)\n",
    "        displayboard[fy][fx]=foodskin\n",
    "        \n",
    "    elif(displayboard[newy][newx]==' '):\n",
    "        snake.append((newy,newx))\n",
    "        displayboard[newy][newx]=snakeskin\n",
    "        displayboard[snake[0][0]][snake[0][1]]=' '\n",
    "        snake.pop(0)\n",
    "        \n",
    "    elif(displayboard[newy][newx]==snakeskin):### to be filled more, direction k ulta ni hona chahie\n",
    "        break\n",
    "        \n",
    "    elif(displayboard[newy][newx]==horizontalchar or displayboard[newy][newx]==verticalchar):\n",
    "        break\n",
    "        \n",
    "    \n",
    "    printmatrix(displayboard)\n",
    "    time.sleep(0.1)\n",
    "        \n",
    "cmd('cls')\n",
    "print('gameover')\n",
    "input()"
   ]
  },
  {
   "cell_type": "code",
   "execution_count": null,
   "id": "0f449599",
   "metadata": {},
   "outputs": [],
   "source": [
    "\n"
   ]
  },
  {
   "cell_type": "code",
   "execution_count": 50,
   "id": "5026e545",
   "metadata": {},
   "outputs": [
    {
     "data": {
      "text/plain": [
       "0"
      ]
     },
     "execution_count": 50,
     "metadata": {},
     "output_type": "execute_result"
    }
   ],
   "source": []
  },
  {
   "cell_type": "code",
   "execution_count": null,
   "id": "0e38c443",
   "metadata": {},
   "outputs": [],
   "source": []
  }
 ],
 "metadata": {
  "kernelspec": {
   "display_name": "Python 3",
   "language": "python",
   "name": "python3"
  },
  "language_info": {
   "codemirror_mode": {
    "name": "ipython",
    "version": 3
   },
   "file_extension": ".py",
   "mimetype": "text/x-python",
   "name": "python",
   "nbconvert_exporter": "python",
   "pygments_lexer": "ipython3",
   "version": "3.7.4"
  }
 },
 "nbformat": 4,
 "nbformat_minor": 5
}
