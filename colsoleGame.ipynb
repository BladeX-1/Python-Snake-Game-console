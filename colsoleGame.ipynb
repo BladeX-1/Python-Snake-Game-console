{
 "cells": [
  {
   "cell_type": "code",
   "execution_count": 50,
   "id": "932db97a",
   "metadata": {},
   "outputs": [],
   "source": [
    "import itertools\n",
    "import random\n",
    "from os import system as cmd"
   ]
  },
  {
   "cell_type": "code",
   "execution_count": 42,
   "id": "90511600",
   "metadata": {},
   "outputs": [],
   "source": [
    "displayboard=[]\n",
    "backendboard=[]\n",
    "height=25\n",
    "width=100\n",
    "width-=(width-2)%3\n",
    "\n",
    "cornerchar='+'\n",
    "verticalchar='|'\n",
    "horizontalchar='='\n",
    "snakeskin='#'\n",
    "foodskin='$'"
   ]
  },
  {
   "cell_type": "code",
   "execution_count": 43,
   "id": "608b051e",
   "metadata": {},
   "outputs": [],
   "source": [
    "for i in range(height):\n",
    "    displayboard.append([])\n",
    "    backendboard.append([])\n",
    "    for j in range(width):\n",
    "        displayboard[i].append(' ')\n",
    "        backendboard[i].append(' ')\n",
    "        if( (i==0 and (j==0 or j==width-1)) or (i==height-1 and (j==0 or j==width-1)) ):\n",
    "            displayboard[i][j]=cornerchar\n",
    "            backendboard[i][j]='#'\n",
    "        elif(j==0 or j==width-1):\n",
    "            displayboard[i][j]=verticalchar\n",
    "            backendboard[i][j]='#'\n",
    "        elif(i==0 or i==height-1):\n",
    "            displayboard[i][j]=horizontalchar\n",
    "            backendboard[i][j]='#'\n"
   ]
  },
  {
   "cell_type": "code",
   "execution_count": 44,
   "id": "c8f498e5",
   "metadata": {},
   "outputs": [],
   "source": [
    "def printmatrix(mat):\n",
    "    for arr in mat:\n",
    "        for c in arr:\n",
    "            print(c,sep='',end='')\n",
    "        print()\n"
   ]
  },
  {
   "cell_type": "code",
   "execution_count": 45,
   "id": "f1d4226c",
   "metadata": {},
   "outputs": [
    {
     "name": "stdout",
     "output_type": "stream",
     "text": [
      "+================================================================================================+\n",
      "|                                                                                                |\n",
      "|                                                                                                |\n",
      "|                                                                                                |\n",
      "|                                                                                                |\n",
      "|                                                                                                |\n",
      "|                                                                                                |\n",
      "|                                                                                                |\n",
      "|                                                                                                |\n",
      "|                                                                                                |\n",
      "|                                                                                                |\n",
      "|                                                                                                |\n",
      "|                                                                                                |\n",
      "|                                                                                                |\n",
      "|                                                                                                |\n",
      "|                                                                                                |\n",
      "|                                                                                                |\n",
      "|                                                                                                |\n",
      "|                                                                                                |\n",
      "|                                                                                                |\n",
      "|                                                                                                |\n",
      "|                                                                                                |\n",
      "|                                                                                                |\n",
      "|                                                                                                |\n",
      "+================================================================================================+\n"
     ]
    }
   ],
   "source": [
    "printmatrix(displayboard)"
   ]
  },
  {
   "cell_type": "code",
   "execution_count": 47,
   "id": "b7f64fbf",
   "metadata": {},
   "outputs": [],
   "source": [
    "snake=[(height//2,width//2),\n",
    "       (height//2,width//2+1),\n",
    "       (height//2,width//2+2),\n",
    "       (height//2,width//2+3)\n",
    "      ]"
   ]
  },
  {
   "cell_type": "code",
   "execution_count": 49,
   "id": "8305fec4",
   "metadata": {},
   "outputs": [],
   "source": [
    "def foodlocation(board):\n",
    "    firsttime=True\n",
    "    while(firsttime or board[y][x]!=' '):\n",
    "        x=random.randint(0,width-1)\n",
    "        y=random.randint(0,height-1)\n",
    "        if(firsttime):\n",
    "            firsttime=false\n",
    "    return y,x"
   ]
  },
  {
   "cell_type": "code",
   "execution_count": null,
   "id": "f52fddca",
   "metadata": {},
   "outputs": [],
   "source": [
    "directionsX=[1,0,-1,0] # clockwise\n",
    "directionsY=[0,1,0,-1]\n",
    "snakeDirection=0 #1,2,3\n",
    "while(True):\n",
    "    # game loop\n",
    "    y,x=snake[-1]\n",
    "    ##\n",
    "    ## read keyboard here\n",
    "    ##\n",
    "    newy,newx=(y+directionY[snakeDirection], x+directionX[snakeDirection])\n",
    "    if(displayboard[y][x]==foodskin):\n",
    "        snake.append((newy,newx))\n",
    "    elif(displayboard[y][x]==' '):\n",
    "        snake.append((newy,newx))\n",
    "        snake.pop(0)\n",
    "    else(displayboard[y][x]==snakeskin):### to be filled more, direction k ulta ni hona chahie\n",
    "        break\n",
    "\n",
    "        \n",
    "cmd('cls')\n",
    "print('gameover')"
   ]
  }
 ],
 "metadata": {
  "kernelspec": {
   "display_name": "Python 3",
   "language": "python",
   "name": "python3"
  },
  "language_info": {
   "codemirror_mode": {
    "name": "ipython",
    "version": 3
   },
   "file_extension": ".py",
   "mimetype": "text/x-python",
   "name": "python",
   "nbconvert_exporter": "python",
   "pygments_lexer": "ipython3",
   "version": "3.7.4"
  }
 },
 "nbformat": 4,
 "nbformat_minor": 5
}
