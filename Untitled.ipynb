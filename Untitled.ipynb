{
 "cells": [
  {
   "cell_type": "code",
   "execution_count": 1,
   "id": "ace35d20",
   "metadata": {},
   "outputs": [],
   "source": [
    "import itertools"
   ]
  },
  {
   "cell_type": "code",
   "execution_count": 18,
   "id": "e1a0becc",
   "metadata": {},
   "outputs": [],
   "source": [
    "matrix=[]\n",
    "\n",
    "height=50\n",
    "width=100\n",
    "\n",
    "cornerchar='+'\n",
    "verticalchar='|'\n",
    "horizontalchar='_'"
   ]
  },
  {
   "cell_type": "code",
   "execution_count": 19,
   "id": "f7dd2ce6",
   "metadata": {},
   "outputs": [],
   "source": [
    "for i in range(height):\n",
    "    matrix.append([])\n",
    "    for j in range(width):\n",
    "        matrix[i].append(' ')\n",
    "        if( (i==0 and (j==0 or j==width-1)) or (i==height-1 and (j==0 or j==width-1)) ):\n",
    "            matrix[i][j]=cornerchar\n",
    "        elif(j==0 or j==width-1):\n",
    "            matrix[i][j]=verticalchar\n",
    "        elif(i==0 or i==height-1):\n",
    "            matrix[i][j]=horizontalchar"
   ]
  },
  {
   "cell_type": "code",
   "execution_count": 20,
   "id": "3d8d798b",
   "metadata": {},
   "outputs": [],
   "source": [
    "def printmatrix(mat):\n",
    "    for arr in mat:\n",
    "        for c in arr:\n",
    "            print(c,sep='',end='')\n",
    "        print()\n"
   ]
  },
  {
   "cell_type": "code",
   "execution_count": 21,
   "id": "10b1e2f3",
   "metadata": {},
   "outputs": [
    {
     "name": "stdout",
     "output_type": "stream",
     "text": [
      "+__________________________________________________________________________________________________+\n",
      "|                                                                                                  |\n",
      "|                                                                                                  |\n",
      "|                                                                                                  |\n",
      "|                                                                                                  |\n",
      "|                                                                                                  |\n",
      "|                                                                                                  |\n",
      "|                                                                                                  |\n",
      "|                                                                                                  |\n",
      "|                                                                                                  |\n",
      "|                                                                                                  |\n",
      "|                                                                                                  |\n",
      "|                                                                                                  |\n",
      "|                                                                                                  |\n",
      "|                                                                                                  |\n",
      "|                                                                                                  |\n",
      "|                                                                                                  |\n",
      "|                                                                                                  |\n",
      "|                                                                                                  |\n",
      "|                                                                                                  |\n",
      "|                                                                                                  |\n",
      "|                                                                                                  |\n",
      "|                                                                                                  |\n",
      "|                                                                                                  |\n",
      "|                                                                                                  |\n",
      "|                                                                                                  |\n",
      "|                                                                                                  |\n",
      "|                                                                                                  |\n",
      "|                                                                                                  |\n",
      "|                                                                                                  |\n",
      "|                                                                                                  |\n",
      "|                                                                                                  |\n",
      "|                                                                                                  |\n",
      "|                                                                                                  |\n",
      "|                                                                                                  |\n",
      "|                                                                                                  |\n",
      "|                                                                                                  |\n",
      "|                                                                                                  |\n",
      "|                                                                                                  |\n",
      "|                                                                                                  |\n",
      "|                                                                                                  |\n",
      "|                                                                                                  |\n",
      "|                                                                                                  |\n",
      "|                                                                                                  |\n",
      "|                                                                                                  |\n",
      "|                                                                                                  |\n",
      "|                                                                                                  |\n",
      "|                                                                                                  |\n",
      "|                                                                                                  |\n",
      "+__________________________________________________________________________________________________+\n"
     ]
    }
   ],
   "source": [
    "printmatrix(matrix)"
   ]
  },
  {
   "cell_type": "code",
   "execution_count": null,
   "id": "4e77f1bc",
   "metadata": {},
   "outputs": [],
   "source": []
  }
 ],
 "metadata": {
  "kernelspec": {
   "display_name": "Python 3",
   "language": "python",
   "name": "python3"
  },
  "language_info": {
   "codemirror_mode": {
    "name": "ipython",
    "version": 3
   },
   "file_extension": ".py",
   "mimetype": "text/x-python",
   "name": "python",
   "nbconvert_exporter": "python",
   "pygments_lexer": "ipython3",
   "version": "3.7.4"
  }
 },
 "nbformat": 4,
 "nbformat_minor": 5
}
