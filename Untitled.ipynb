{
 "cells": [
  {
   "cell_type": "code",
   "execution_count": 1,
   "id": "1ca4bde0",
   "metadata": {},
   "outputs": [],
   "source": [
    "import itertools\n",
    "import random"
   ]
  },
  {
   "cell_type": "code",
   "execution_count": 23,
   "id": "0626b59c",
   "metadata": {},
   "outputs": [],
   "source": [
    "displayboard=[]\n",
    "backendboard=[]\n",
    "height=40\n",
    "width=100\n",
    "width-=(width-2)%3\n",
    "\n",
    "cornerchar='+'\n",
    "verticalchar='|'\n",
    "horizontalchar='='"
   ]
  },
  {
   "cell_type": "code",
   "execution_count": 24,
   "id": "0d8054a6",
   "metadata": {},
   "outputs": [],
   "source": [
    "for i in range(height):\n",
    "    displayboard.append([])\n",
    "    backendboard.append([])\n",
    "    for j in range(width):\n",
    "        displayboard[i].append(' ')\n",
    "        if( (i==0 and (j==0 or j==width-1)) or (i==height-1 and (j==0 or j==width-1)) ):\n",
    "            displayboard[i][j]=cornerchar\n",
    "            backendboard[i]\n",
    "        elif(j==0 or j==width-1):\n",
    "            displayboard[i][j]=verticalchar\n",
    "        elif(i==0 or i==height-1):\n",
    "            displayboard[i][j]=horizontalchar"
   ]
  },
  {
   "cell_type": "code",
   "execution_count": 25,
   "id": "482a78ea",
   "metadata": {},
   "outputs": [],
   "source": [
    "def printmatrix(mat):\n",
    "    for arr in mat:\n",
    "        for c in arr:\n",
    "            print(c,sep='',end='')\n",
    "        print()\n"
   ]
  },
  {
   "cell_type": "code",
   "execution_count": 26,
   "id": "3ad5e6c0",
   "metadata": {},
   "outputs": [
    {
     "name": "stdout",
     "output_type": "stream",
     "text": [
      "+==================================================================================================+\n",
      "|                                                                                                  |\n",
      "|                                                                                                  |\n",
      "|                                                                                                  |\n",
      "|                                                                                                  |\n",
      "|                                                                                                  |\n",
      "|                                                                                                  |\n",
      "|                                                                                                  |\n",
      "|                                                                                                  |\n",
      "|                                                                                                  |\n",
      "|                                                                                                  |\n",
      "|                                                                                                  |\n",
      "|                                                                                                  |\n",
      "|                                                                                                  |\n",
      "|                                                                                                  |\n",
      "|                                                                                                  |\n",
      "|                                                                                                  |\n",
      "|                                                                                                  |\n",
      "|                                                                                                  |\n",
      "|                                                                                                  |\n",
      "|                                                                                                  |\n",
      "|                                                                                                  |\n",
      "|                                                                                                  |\n",
      "|                                                                                                  |\n",
      "|                                                                                                  |\n",
      "|                                                                                                  |\n",
      "|                                                                                                  |\n",
      "|                                                                                                  |\n",
      "|                                                                                                  |\n",
      "|                                                                                                  |\n",
      "|                                                                                                  |\n",
      "|                                                                                                  |\n",
      "|                                                                                                  |\n",
      "|                                                                                                  |\n",
      "|                                                                                                  |\n",
      "|                                                                                                  |\n",
      "|                                                                                                  |\n",
      "|                                                                                                  |\n",
      "|                                                                                                  |\n",
      "+==================================================================================================+\n"
     ]
    }
   ],
   "source": [
    "printmatrix(displayboard)"
   ]
  },
  {
   "cell_type": "code",
   "execution_count": null,
   "id": "9372f840",
   "metadata": {},
   "outputs": [],
   "source": []
  }
 ],
 "metadata": {
  "kernelspec": {
   "display_name": "Python 3",
   "language": "python",
   "name": "python3"
  },
  "language_info": {
   "codemirror_mode": {
    "name": "ipython",
    "version": 3
   },
   "file_extension": ".py",
   "mimetype": "text/x-python",
   "name": "python",
   "nbconvert_exporter": "python",
   "pygments_lexer": "ipython3",
   "version": "3.7.4"
  }
 },
 "nbformat": 4,
 "nbformat_minor": 5
}
